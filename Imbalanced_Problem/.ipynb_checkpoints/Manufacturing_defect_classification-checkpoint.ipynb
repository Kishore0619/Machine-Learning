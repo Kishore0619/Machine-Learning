{
 "cells": [
  {
   "cell_type": "markdown",
   "id": "0ee19379",
   "metadata": {},
   "source": [
    "# Manufacturing defect classification"
   ]
  },
  {
   "cell_type": "markdown",
   "id": "0ae11011",
   "metadata": {},
   "source": [
    "## Problem Statement\n",
    "The goal of this project is to develop a data-driven solution that can help the manufacturing company improve its defect detection and correction processes. The solution should leverage historical data on manufacturing defects to identify patterns, predict future defects, and optimize corrective actions. The solution should also be scalable and adaptable to the company's evolving manufacturing processes and products.\n",
    "\n",
    "The solution should be able to demonstrate a significant reduction in defects, improved customer satisfaction, and increased revenue for the manufacturing company.\n",
    "\n",
    "__DATASET DESCRIPTION__\n",
    "1. __ProductionVolume__: Number of units produced per day.\n",
    "2. __ProductionCost__: Cost incurred for production per day.\n",
    "3. __SupplierQuality__: Quality ratings of suppliers.\n",
    "4. __DeliveryDelay__: Average delay in delivery.\n",
    "5. __DefectRate__: Defects per thousand units produced.\n",
    "6. __QualityScore__: Overall quality assessment.\n",
    "7. __MaintenanceHours__: Hours spent on maintenance per week.\n",
    "8. __DowntimePercentage__: Percentage of production downtime.\n",
    "9. __InventoryTurnover__: Ratio of inventory turnover.\n",
    "10. __StockoutRate__: Rate of inventory stockouts.\n",
    "11. __WorkerProductivity__: Productivity level of the workforce.\n",
    "12. __SafetyIncidents__: Number of safety incidents per month.\n",
    "13. __EnergyConsumption__: Energy consumed in kWh.\n",
    "14. __EnergyEfficiency__: Efficiency factor of energy usage.\n",
    "15. __AdditiveProcessTime__: Time taken for additive manufacturing.\n",
    "16. __AdditiveMaterialCost__: Cost of additive materials per unit.\n",
    "17. __DefectStatus__: Predicted defect status."
   ]
  },
  {
   "cell_type": "code",
   "execution_count": 1,
   "id": "b8233d03",
   "metadata": {},
   "outputs": [
    {
     "name": "stderr",
     "output_type": "stream",
     "text": [
      "C:\\Users\\kishore.thirunagari\\OneDrive - Amnet Digital Pvt Ltd\\Documents\\Machine Learning\\Machine-Learning\\Imbalanced_Problem\\User_defined_Data_loader.py:13: ParserWarning: Falling back to the 'python' engine because the 'c' engine does not support sep=None with delim_whitespace=False; you can avoid this warning by specifying engine='python'.\n",
      "  data = pd.read_csv(self.path,sep=sep)\n"
     ]
    }
   ],
   "source": [
    "# import userdefined class to load the data\n",
    "from User_defined_Data_loader import DataLoader\n",
    "\n",
    "# initialize the userdefined class\n",
    "data_loader = DataLoader('manufacturing_defect_dataset.csv')\n",
    "# read the data using read data function\n",
    "manufacturing_defect_data = data_loader.read_data()"
   ]
  },
  {
   "cell_type": "code",
   "execution_count": 2,
   "id": "e46215fa",
   "metadata": {},
   "outputs": [
    {
     "data": {
      "text/html": [
       "<div>\n",
       "<style scoped>\n",
       "    .dataframe tbody tr th:only-of-type {\n",
       "        vertical-align: middle;\n",
       "    }\n",
       "\n",
       "    .dataframe tbody tr th {\n",
       "        vertical-align: top;\n",
       "    }\n",
       "\n",
       "    .dataframe thead th {\n",
       "        text-align: right;\n",
       "    }\n",
       "</style>\n",
       "<table border=\"1\" class=\"dataframe\">\n",
       "  <thead>\n",
       "    <tr style=\"text-align: right;\">\n",
       "      <th></th>\n",
       "      <th>ProductionVolume</th>\n",
       "      <th>ProductionCost</th>\n",
       "      <th>SupplierQuality</th>\n",
       "      <th>DeliveryDelay</th>\n",
       "      <th>DefectRate</th>\n",
       "      <th>QualityScore</th>\n",
       "      <th>MaintenanceHours</th>\n",
       "      <th>DowntimePercentage</th>\n",
       "      <th>InventoryTurnover</th>\n",
       "      <th>StockoutRate</th>\n",
       "      <th>WorkerProductivity</th>\n",
       "      <th>SafetyIncidents</th>\n",
       "      <th>EnergyConsumption</th>\n",
       "      <th>EnergyEfficiency</th>\n",
       "      <th>AdditiveProcessTime</th>\n",
       "      <th>AdditiveMaterialCost</th>\n",
       "      <th>DefectStatus</th>\n",
       "    </tr>\n",
       "  </thead>\n",
       "  <tbody>\n",
       "    <tr>\n",
       "      <th>0</th>\n",
       "      <td>202</td>\n",
       "      <td>13175.403783</td>\n",
       "      <td>86.648534</td>\n",
       "      <td>1</td>\n",
       "      <td>3.121492</td>\n",
       "      <td>63.463494</td>\n",
       "      <td>9</td>\n",
       "      <td>0.052343</td>\n",
       "      <td>8.630515</td>\n",
       "      <td>0.081322</td>\n",
       "      <td>85.042379</td>\n",
       "      <td>0</td>\n",
       "      <td>2419.616785</td>\n",
       "      <td>0.468947</td>\n",
       "      <td>5.551639</td>\n",
       "      <td>236.439301</td>\n",
       "      <td>1</td>\n",
       "    </tr>\n",
       "    <tr>\n",
       "      <th>1</th>\n",
       "      <td>535</td>\n",
       "      <td>19770.046093</td>\n",
       "      <td>86.310664</td>\n",
       "      <td>4</td>\n",
       "      <td>0.819531</td>\n",
       "      <td>83.697818</td>\n",
       "      <td>20</td>\n",
       "      <td>4.908328</td>\n",
       "      <td>9.296598</td>\n",
       "      <td>0.038486</td>\n",
       "      <td>99.657443</td>\n",
       "      <td>7</td>\n",
       "      <td>3915.566713</td>\n",
       "      <td>0.119485</td>\n",
       "      <td>9.080754</td>\n",
       "      <td>353.957631</td>\n",
       "      <td>1</td>\n",
       "    </tr>\n",
       "    <tr>\n",
       "      <th>2</th>\n",
       "      <td>960</td>\n",
       "      <td>19060.820997</td>\n",
       "      <td>82.132472</td>\n",
       "      <td>0</td>\n",
       "      <td>4.514504</td>\n",
       "      <td>90.350550</td>\n",
       "      <td>1</td>\n",
       "      <td>2.464923</td>\n",
       "      <td>5.097486</td>\n",
       "      <td>0.002887</td>\n",
       "      <td>92.819264</td>\n",
       "      <td>2</td>\n",
       "      <td>3392.385362</td>\n",
       "      <td>0.496392</td>\n",
       "      <td>6.562827</td>\n",
       "      <td>396.189402</td>\n",
       "      <td>1</td>\n",
       "    </tr>\n",
       "    <tr>\n",
       "      <th>3</th>\n",
       "      <td>370</td>\n",
       "      <td>5647.606037</td>\n",
       "      <td>87.335966</td>\n",
       "      <td>5</td>\n",
       "      <td>0.638524</td>\n",
       "      <td>67.628690</td>\n",
       "      <td>8</td>\n",
       "      <td>4.692476</td>\n",
       "      <td>3.577616</td>\n",
       "      <td>0.055331</td>\n",
       "      <td>96.887013</td>\n",
       "      <td>8</td>\n",
       "      <td>4652.400275</td>\n",
       "      <td>0.183125</td>\n",
       "      <td>8.097496</td>\n",
       "      <td>164.135870</td>\n",
       "      <td>1</td>\n",
       "    </tr>\n",
       "    <tr>\n",
       "      <th>4</th>\n",
       "      <td>206</td>\n",
       "      <td>7472.222236</td>\n",
       "      <td>81.989893</td>\n",
       "      <td>3</td>\n",
       "      <td>3.867784</td>\n",
       "      <td>82.728334</td>\n",
       "      <td>9</td>\n",
       "      <td>2.746726</td>\n",
       "      <td>6.851709</td>\n",
       "      <td>0.068047</td>\n",
       "      <td>88.315554</td>\n",
       "      <td>7</td>\n",
       "      <td>1581.630332</td>\n",
       "      <td>0.263507</td>\n",
       "      <td>6.406154</td>\n",
       "      <td>365.708964</td>\n",
       "      <td>1</td>\n",
       "    </tr>\n",
       "  </tbody>\n",
       "</table>\n",
       "</div>"
      ],
      "text/plain": [
       "   ProductionVolume  ProductionCost  SupplierQuality  DeliveryDelay  \\\n",
       "0               202    13175.403783        86.648534              1   \n",
       "1               535    19770.046093        86.310664              4   \n",
       "2               960    19060.820997        82.132472              0   \n",
       "3               370     5647.606037        87.335966              5   \n",
       "4               206     7472.222236        81.989893              3   \n",
       "\n",
       "   DefectRate  QualityScore  MaintenanceHours  DowntimePercentage  \\\n",
       "0    3.121492     63.463494                 9            0.052343   \n",
       "1    0.819531     83.697818                20            4.908328   \n",
       "2    4.514504     90.350550                 1            2.464923   \n",
       "3    0.638524     67.628690                 8            4.692476   \n",
       "4    3.867784     82.728334                 9            2.746726   \n",
       "\n",
       "   InventoryTurnover  StockoutRate  WorkerProductivity  SafetyIncidents  \\\n",
       "0           8.630515      0.081322           85.042379                0   \n",
       "1           9.296598      0.038486           99.657443                7   \n",
       "2           5.097486      0.002887           92.819264                2   \n",
       "3           3.577616      0.055331           96.887013                8   \n",
       "4           6.851709      0.068047           88.315554                7   \n",
       "\n",
       "   EnergyConsumption  EnergyEfficiency  AdditiveProcessTime  \\\n",
       "0        2419.616785          0.468947             5.551639   \n",
       "1        3915.566713          0.119485             9.080754   \n",
       "2        3392.385362          0.496392             6.562827   \n",
       "3        4652.400275          0.183125             8.097496   \n",
       "4        1581.630332          0.263507             6.406154   \n",
       "\n",
       "   AdditiveMaterialCost  DefectStatus  \n",
       "0            236.439301             1  \n",
       "1            353.957631             1  \n",
       "2            396.189402             1  \n",
       "3            164.135870             1  \n",
       "4            365.708964             1  "
      ]
     },
     "execution_count": 2,
     "metadata": {},
     "output_type": "execute_result"
    }
   ],
   "source": [
    "# first 5 rows from the data\n",
    "manufacturing_defect_data.head()"
   ]
  },
  {
   "cell_type": "code",
   "execution_count": 4,
   "id": "4e315aa8",
   "metadata": {},
   "outputs": [
    {
     "data": {
      "text/plain": [
       "(3240, 17)"
      ]
     },
     "execution_count": 4,
     "metadata": {},
     "output_type": "execute_result"
    }
   ],
   "source": [
    "# dataset shape\n",
    "manufacturing_defect_data.shape"
   ]
  },
  {
   "cell_type": "code",
   "execution_count": 5,
   "id": "5dfd9dbd",
   "metadata": {},
   "outputs": [
    {
     "data": {
      "text/plain": [
       "Index(['ProductionVolume', 'ProductionCost', 'SupplierQuality',\n",
       "       'DeliveryDelay', 'DefectRate', 'QualityScore', 'MaintenanceHours',\n",
       "       'DowntimePercentage', 'InventoryTurnover', 'StockoutRate',\n",
       "       'WorkerProductivity', 'SafetyIncidents', 'EnergyConsumption',\n",
       "       'EnergyEfficiency', 'AdditiveProcessTime', 'AdditiveMaterialCost',\n",
       "       'DefectStatus'],\n",
       "      dtype='object')"
      ]
     },
     "execution_count": 5,
     "metadata": {},
     "output_type": "execute_result"
    }
   ],
   "source": [
    "# columns of the data\n",
    "manufacturing_defect_data.columns"
   ]
  },
  {
   "cell_type": "code",
   "execution_count": null,
   "id": "d94e5063",
   "metadata": {},
   "outputs": [],
   "source": [
    "# variable types in data\n",
    "manufacturing_defect_data."
   ]
  },
  {
   "cell_type": "code",
   "execution_count": 13,
   "id": "5161e591",
   "metadata": {},
   "outputs": [
    {
     "data": {
      "text/plain": [
       "1    2723\n",
       "0     517\n",
       "Name: DefectStatus, dtype: int64"
      ]
     },
     "execution_count": 13,
     "metadata": {},
     "output_type": "execute_result"
    }
   ],
   "source": [
    "manufacturing_defect_data['DefectStatus'].value_counts()"
   ]
  },
  {
   "cell_type": "code",
   "execution_count": 14,
   "id": "6179ccfb",
   "metadata": {},
   "outputs": [
    {
     "data": {
      "text/plain": [
       "ProductionVolume        0\n",
       "ProductionCost          0\n",
       "SupplierQuality         0\n",
       "DeliveryDelay           0\n",
       "DefectRate              0\n",
       "QualityScore            0\n",
       "MaintenanceHours        0\n",
       "DowntimePercentage      0\n",
       "InventoryTurnover       0\n",
       "StockoutRate            0\n",
       "WorkerProductivity      0\n",
       "SafetyIncidents         0\n",
       "EnergyConsumption       0\n",
       "EnergyEfficiency        0\n",
       "AdditiveProcessTime     0\n",
       "AdditiveMaterialCost    0\n",
       "DefectStatus            0\n",
       "dtype: int64"
      ]
     },
     "execution_count": 14,
     "metadata": {},
     "output_type": "execute_result"
    }
   ],
   "source": [
    "manufacturing_defect_data.isna().sum()"
   ]
  },
  {
   "cell_type": "code",
   "execution_count": null,
   "id": "8feaeb2f",
   "metadata": {},
   "outputs": [],
   "source": []
  }
 ],
 "metadata": {
  "kernelspec": {
   "display_name": "Python 3 (ipykernel)",
   "language": "python",
   "name": "python3"
  },
  "language_info": {
   "codemirror_mode": {
    "name": "ipython",
    "version": 3
   },
   "file_extension": ".py",
   "mimetype": "text/x-python",
   "name": "python",
   "nbconvert_exporter": "python",
   "pygments_lexer": "ipython3",
   "version": "3.9.12"
  }
 },
 "nbformat": 4,
 "nbformat_minor": 5
}
