{
 "cells": [
  {
   "cell_type": "code",
   "execution_count": null,
   "id": "553b7424-0c01-4baa-80ac-1010d1dccd93",
   "metadata": {},
   "outputs": [],
   "source": []
  }
 ],
 "metadata": {
  "kernelspec": {
   "display_name": "",
   "name": ""
  },
  "language_info": {
   "name": ""
  }
 },
 "nbformat": 4,
 "nbformat_minor": 5
}
