{
 "cells": [
  {
   "cell_type": "markdown",
   "id": "af7aa76a-102a-4ac1-bc2b-de7e96ead515",
   "metadata": {},
   "source": [
    "# 1. Parametric Statistical Hypothesis Tests"
   ]
  },
  {
   "cell_type": "markdown",
   "id": "1d96fe3f-9fae-44b0-85a8-7852023dcb9f",
   "metadata": {},
   "source": [
    "#### Statistical Test for comaparison between data samples."
   ]
  },
  {
   "cell_type": "code",
   "execution_count": null,
   "id": "2e6f3231-5537-4dd2-b0c4-24d8f255c895",
   "metadata": {},
   "outputs": [],
   "source": [
    "1.1 "
   ]
  },
  {
   "cell_type": "code",
   "execution_count": null,
   "id": "7a5747f4-75b3-4a0a-a381-ab12a1db0370",
   "metadata": {},
   "outputs": [],
   "source": [
    "from scipy.stats import "
   ]
  }
 ],
 "metadata": {
  "kernelspec": {
   "display_name": "Python 3 (ipykernel)",
   "language": "python",
   "name": "python3"
  },
  "language_info": {
   "codemirror_mode": {
    "name": "ipython",
    "version": 3
   },
   "file_extension": ".py",
   "mimetype": "text/x-python",
   "name": "python",
   "nbconvert_exporter": "python",
   "pygments_lexer": "ipython3",
   "version": "3.12.4"
  },
  "widgets": {
   "application/vnd.jupyter.widget-state+json": {
    "state": {},
    "version_major": 2,
    "version_minor": 0
   }
  }
 },
 "nbformat": 4,
 "nbformat_minor": 5
}
