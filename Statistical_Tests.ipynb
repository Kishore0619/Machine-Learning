{
 "cells": [
  {
   "cell_type": "code",
   "execution_count": 20,
   "id": "7a5747f4-75b3-4a0a-a381-ab12a1db0370",
   "metadata": {},
   "outputs": [],
   "source": [
    "from User_defined_Data_loader import DataLoader\n",
    "from scipy.stats import ttest_ind,ttest_1samp,ttest_rel,f_oneway\n",
    "from scipy.stats import pearsonr,spearmanr,kendalltau\n",
    "import warnings\n",
    "warnings.filterwarnings('ignore')\n",
    "\n",
    "dl = DataLoader(\"restaurant_data.csv\")\n",
    "restaurant_data = dl.read_data()"
   ]
  },
  {
   "cell_type": "code",
   "execution_count": 2,
   "id": "7c346749-8f92-4e96-96d2-8b2f74095e56",
   "metadata": {},
   "outputs": [],
   "source": [
    "from scipy.stats import ttest_ind,ttest_1samp,ttest_rel,f_oneway\n",
    "from statsmodels.multivariate.manova import MANOVA"
   ]
  },
  {
   "cell_type": "code",
   "execution_count": 3,
   "id": "2268cbe3-b586-419a-aa8a-8a9e32de8450",
   "metadata": {},
   "outputs": [
    {
     "data": {
      "text/html": [
       "<div>\n",
       "<style scoped>\n",
       "    .dataframe tbody tr th:only-of-type {\n",
       "        vertical-align: middle;\n",
       "    }\n",
       "\n",
       "    .dataframe tbody tr th {\n",
       "        vertical-align: top;\n",
       "    }\n",
       "\n",
       "    .dataframe thead th {\n",
       "        text-align: right;\n",
       "    }\n",
       "</style>\n",
       "<table border=\"1\" class=\"dataframe\">\n",
       "  <thead>\n",
       "    <tr style=\"text-align: right;\">\n",
       "      <th></th>\n",
       "      <th>Name</th>\n",
       "      <th>Location</th>\n",
       "      <th>Cuisine</th>\n",
       "      <th>Rating</th>\n",
       "      <th>Seating Capacity</th>\n",
       "      <th>Average Meal Price</th>\n",
       "      <th>Marketing Budget</th>\n",
       "      <th>Social Media Followers</th>\n",
       "      <th>Chef Experience Years</th>\n",
       "      <th>Number of Reviews</th>\n",
       "      <th>Avg Review Length</th>\n",
       "      <th>Ambience Score</th>\n",
       "      <th>Service Quality Score</th>\n",
       "      <th>Parking Availability</th>\n",
       "      <th>Weekend Reservations</th>\n",
       "      <th>Weekday Reservations</th>\n",
       "      <th>Revenue</th>\n",
       "    </tr>\n",
       "  </thead>\n",
       "  <tbody>\n",
       "    <tr>\n",
       "      <th>0</th>\n",
       "      <td>Restaurant 0</td>\n",
       "      <td>Rural</td>\n",
       "      <td>Japanese</td>\n",
       "      <td>4.0</td>\n",
       "      <td>38</td>\n",
       "      <td>73.98</td>\n",
       "      <td>2224</td>\n",
       "      <td>23406</td>\n",
       "      <td>13</td>\n",
       "      <td>185</td>\n",
       "      <td>161.924906</td>\n",
       "      <td>1.3</td>\n",
       "      <td>7.0</td>\n",
       "      <td>Yes</td>\n",
       "      <td>13</td>\n",
       "      <td>4</td>\n",
       "      <td>638945.52</td>\n",
       "    </tr>\n",
       "    <tr>\n",
       "      <th>1</th>\n",
       "      <td>Restaurant 1</td>\n",
       "      <td>Downtown</td>\n",
       "      <td>Mexican</td>\n",
       "      <td>3.2</td>\n",
       "      <td>76</td>\n",
       "      <td>28.11</td>\n",
       "      <td>4416</td>\n",
       "      <td>42741</td>\n",
       "      <td>8</td>\n",
       "      <td>533</td>\n",
       "      <td>148.759717</td>\n",
       "      <td>2.6</td>\n",
       "      <td>3.4</td>\n",
       "      <td>Yes</td>\n",
       "      <td>48</td>\n",
       "      <td>6</td>\n",
       "      <td>490207.83</td>\n",
       "    </tr>\n",
       "    <tr>\n",
       "      <th>2</th>\n",
       "      <td>Restaurant 2</td>\n",
       "      <td>Rural</td>\n",
       "      <td>Italian</td>\n",
       "      <td>4.7</td>\n",
       "      <td>48</td>\n",
       "      <td>48.29</td>\n",
       "      <td>2796</td>\n",
       "      <td>37285</td>\n",
       "      <td>18</td>\n",
       "      <td>853</td>\n",
       "      <td>56.849189</td>\n",
       "      <td>5.3</td>\n",
       "      <td>6.7</td>\n",
       "      <td>No</td>\n",
       "      <td>27</td>\n",
       "      <td>14</td>\n",
       "      <td>541368.62</td>\n",
       "    </tr>\n",
       "    <tr>\n",
       "      <th>3</th>\n",
       "      <td>Restaurant 3</td>\n",
       "      <td>Rural</td>\n",
       "      <td>Italian</td>\n",
       "      <td>4.4</td>\n",
       "      <td>34</td>\n",
       "      <td>51.55</td>\n",
       "      <td>1167</td>\n",
       "      <td>15214</td>\n",
       "      <td>13</td>\n",
       "      <td>82</td>\n",
       "      <td>205.433265</td>\n",
       "      <td>4.6</td>\n",
       "      <td>2.8</td>\n",
       "      <td>Yes</td>\n",
       "      <td>9</td>\n",
       "      <td>17</td>\n",
       "      <td>404556.80</td>\n",
       "    </tr>\n",
       "    <tr>\n",
       "      <th>4</th>\n",
       "      <td>Restaurant 4</td>\n",
       "      <td>Downtown</td>\n",
       "      <td>Japanese</td>\n",
       "      <td>4.9</td>\n",
       "      <td>88</td>\n",
       "      <td>75.98</td>\n",
       "      <td>3639</td>\n",
       "      <td>40171</td>\n",
       "      <td>9</td>\n",
       "      <td>78</td>\n",
       "      <td>241.681584</td>\n",
       "      <td>8.6</td>\n",
       "      <td>2.1</td>\n",
       "      <td>No</td>\n",
       "      <td>37</td>\n",
       "      <td>26</td>\n",
       "      <td>1491046.35</td>\n",
       "    </tr>\n",
       "  </tbody>\n",
       "</table>\n",
       "</div>"
      ],
      "text/plain": [
       "           Name  Location   Cuisine  Rating  Seating Capacity  \\\n",
       "0  Restaurant 0     Rural  Japanese     4.0                38   \n",
       "1  Restaurant 1  Downtown   Mexican     3.2                76   \n",
       "2  Restaurant 2     Rural   Italian     4.7                48   \n",
       "3  Restaurant 3     Rural   Italian     4.4                34   \n",
       "4  Restaurant 4  Downtown  Japanese     4.9                88   \n",
       "\n",
       "   Average Meal Price  Marketing Budget  Social Media Followers  \\\n",
       "0               73.98              2224                   23406   \n",
       "1               28.11              4416                   42741   \n",
       "2               48.29              2796                   37285   \n",
       "3               51.55              1167                   15214   \n",
       "4               75.98              3639                   40171   \n",
       "\n",
       "   Chef Experience Years  Number of Reviews  Avg Review Length  \\\n",
       "0                     13                185         161.924906   \n",
       "1                      8                533         148.759717   \n",
       "2                     18                853          56.849189   \n",
       "3                     13                 82         205.433265   \n",
       "4                      9                 78         241.681584   \n",
       "\n",
       "   Ambience Score  Service Quality Score Parking Availability  \\\n",
       "0             1.3                    7.0                  Yes   \n",
       "1             2.6                    3.4                  Yes   \n",
       "2             5.3                    6.7                   No   \n",
       "3             4.6                    2.8                  Yes   \n",
       "4             8.6                    2.1                   No   \n",
       "\n",
       "   Weekend Reservations  Weekday Reservations     Revenue  \n",
       "0                    13                     4   638945.52  \n",
       "1                    48                     6   490207.83  \n",
       "2                    27                    14   541368.62  \n",
       "3                     9                    17   404556.80  \n",
       "4                    37                    26  1491046.35  "
      ]
     },
     "execution_count": 3,
     "metadata": {},
     "output_type": "execute_result"
    }
   ],
   "source": [
    "restaurant_data.head()"
   ]
  },
  {
   "cell_type": "code",
   "execution_count": 4,
   "id": "8d5dcde9-05f3-434f-ad10-f8bb0839bcbe",
   "metadata": {},
   "outputs": [],
   "source": [
    "restaurant_data = restaurant_data.rename(\n",
    "    columns={\n",
    "        'Seating Capacity':'Seating_Capacity',\n",
    "        'Average Meal Price':'Average_Meal_Price', \n",
    "        'Marketing Budget':'Marketing_Budget', \n",
    "        'Social Media Followers':'Social_Media_Followers',\n",
    "        'Chef Experience Years':'Chef_Experience_Years', \n",
    "        'Number of Reviews':'Number_of_Reviews', \n",
    "        'Avg Review Length': 'AvgReviewLength',\n",
    "        'Ambience Score':'AmbienceScore', \n",
    "        'Service Quality Score':'ServiceQualityScore', \n",
    "        'Parking Availability':'ParkingAvailability',\n",
    "        'Weekend Reservations':'WeekendReservations', \n",
    "        'Weekday Reservations':'WeekdayReservations'})"
   ]
  },
  {
   "cell_type": "markdown",
   "id": "af7aa76a-102a-4ac1-bc2b-de7e96ead515",
   "metadata": {},
   "source": [
    "# 1. Parametric Statistical Hypothesis Tests"
   ]
  },
  {
   "cell_type": "markdown",
   "id": "1d96fe3f-9fae-44b0-85a8-7852023dcb9f",
   "metadata": {},
   "source": [
    "#### Statistical Test for comaparison between data samples."
   ]
  },
  {
   "cell_type": "markdown",
   "id": "af4ce441-96b5-41c3-982b-4508ebf7c3fc",
   "metadata": {},
   "source": [
    "## 1.1 One Sample T-Test\n",
    "mean of a sample is significantly different from a known population mean\n",
    "\n",
    "#### H0: the mean of sample and population are Same .\n",
    "#### H1: the mean of sample and population are not Same."
   ]
  },
  {
   "cell_type": "code",
   "execution_count": 5,
   "id": "b57113f2-f070-4817-ba87-3f4eabd25f9c",
   "metadata": {},
   "outputs": [],
   "source": [
    "def one_sample_ttest(data,numeric_column):\n",
    "    sample_data = data[numeric_column].sample(500)\n",
    "    population_mean = data[numeric_column].mean()\n",
    "    t_static_value,p_value = ttest_1samp(sample_data,population_mean)\n",
    "    print(f'T-static-Value:{t_static_value:.3f}, P-Value:{p_value:.3f}')\n",
    "    if p_value>0.05:\n",
    "        print('Propably the mean of sample and population are same')\n",
    "    else:\n",
    "        print('Propably the mean of sample and population are not same')"
   ]
  },
  {
   "cell_type": "code",
   "execution_count": 6,
   "id": "b81737a3-4a39-40ad-9c74-7ed40f014433",
   "metadata": {},
   "outputs": [
    {
     "name": "stdout",
     "output_type": "stream",
     "text": [
      "T-static-Value:0.623, P-Value:0.534\n",
      "Propably the mean of sample and population are same\n"
     ]
    }
   ],
   "source": [
    "one_sample_ttest(restaurant_data,numeric_column='Revenue')"
   ]
  },
  {
   "cell_type": "markdown",
   "id": "ddd7cb2d-a3d6-433e-a3f8-009ead15ebe1",
   "metadata": {},
   "source": [
    "## 1.2 Two Sample T-Test\n",
    "Average Between two data samples are significantly different."
   ]
  },
  {
   "cell_type": "markdown",
   "id": "08f5b16e-d90d-41fb-a6d0-0e6d6842fb6d",
   "metadata": {},
   "source": [
    "#### H0: the mean between two groups are equal .\n",
    "#### H1: the mean between two groups are not equal."
   ]
  },
  {
   "cell_type": "code",
   "execution_count": 7,
   "id": "19f39417-857a-4334-ae56-a611d40aafb9",
   "metadata": {},
   "outputs": [],
   "source": [
    "def two_sample_ttest(numeric_column,category_column,data):\n",
    "    groups = data[category_column].unique().tolist()\n",
    "    group1 = data[data[category_column]==groups[0]][numeric_column].sample(500)\n",
    "    group2 = data[data[category_column]==groups[1]][numeric_column].sample(500)\n",
    "    t_static_value, p_value = ttest_ind(group1, group2)\n",
    "    print(f'T-static-Value:{t_static_value:.3f}, P-Value:{p_value:.3f}')\n",
    "    if p_value > 0.05:\n",
    "        print('Probably means between 2 groups are equal')\n",
    "    else:\n",
    "        print('Probably means between 2 groups are not equal')"
   ]
  },
  {
   "cell_type": "code",
   "execution_count": 8,
   "id": "de415b67-3d3c-4f7f-bd03-0030855c323b",
   "metadata": {},
   "outputs": [
    {
     "name": "stdout",
     "output_type": "stream",
     "text": [
      "T-static-Value:0.815, P-Value:0.415\n",
      "Probably means between 2 groups are equal\n"
     ]
    }
   ],
   "source": [
    "two_sample_ttest(numeric_column='AvgReviewLength',category_column='Location',data=restaurant_data)"
   ]
  },
  {
   "cell_type": "markdown",
   "id": "6152c0fc-9d3f-4482-b426-5de9201b8eae",
   "metadata": {},
   "source": [
    "## 1.3 Two sampled Paired t-test\n",
    "A paired samples t-test is used to test the means between the old and New values of the Features are same or not.\n",
    "\n",
    "#### H0: mean old and new values are equal.\n",
    "#### H1: mean old and new values are not equal."
   ]
  },
  {
   "cell_type": "code",
   "execution_count": 9,
   "id": "3a782477-87d1-4a9d-ba3c-3e5b57f1a705",
   "metadata": {},
   "outputs": [],
   "source": [
    "def paired_ttest(numeric_column,category_column,data):\n",
    "    groups = data[category_column].unique().tolist()\n",
    "    new = data[data[category_column]==groups[0]][numeric_column].sample(500)\n",
    "    old = data[data[category_column]==groups[1]][numeric_column].sample(500)\n",
    "    t_static_value, p_value = ttest_rel(new, old)\n",
    "    print(f'T-static-Value:{t_static_value:.3f}, P-Value:{p_value:.3f}')\n",
    "    if p_value > 0.05:\n",
    "        print('Probably means of old and new sample data are equal')\n",
    "    else:\n",
    "        print('Probably means of old and new sample data are not equal')"
   ]
  },
  {
   "cell_type": "code",
   "execution_count": 10,
   "id": "d29ad29d-bd35-40a7-b769-27692a081ae5",
   "metadata": {},
   "outputs": [
    {
     "name": "stdout",
     "output_type": "stream",
     "text": [
      "T-static-Value:-31.598, P-Value:0.000\n",
      "Probably means of old and new sample data are not equal\n"
     ]
    }
   ],
   "source": [
    "paired_ttest(data=restaurant_data,numeric_column='Revenue',category_column='Location')"
   ]
  },
  {
   "cell_type": "markdown",
   "id": "b3a46955-1eee-4fde-a98f-57fd411d4be7",
   "metadata": {},
   "source": [
    "## 1.4 Analysis of Variance Test (ANOVA)\n",
    "test whether there are significant differences between the means of two or more groups.\n",
    "\n",
    "#### H0: the means between two or more groups are equal .\n",
    "#### H1: the means between two or more groups are not equal."
   ]
  },
  {
   "cell_type": "code",
   "execution_count": 11,
   "id": "850bd1d7-7e75-4864-a319-74d7c7720682",
   "metadata": {},
   "outputs": [],
   "source": [
    "def anova_one_way(data,category_column,numeric_column):\n",
    "    groups = data[category_column].unique().tolist()\n",
    "    group_data = []\n",
    "    for i in groups:\n",
    "        group_data.append(data[data[category_column]==i][numeric_column].sample(500).tolist())\n",
    "    \n",
    "    t_static_value, prob_val = f_oneway(*group_data)    \n",
    "    print(f'T-static-Value:{t_static_value:.3f}, P-Value:{prob_val:.3f}')\n",
    "    if prob_val > 0.05:\n",
    "        print(f'Probably means of {len(groups)} groups are equal')\n",
    "    else:\n",
    "        print(f'Probably means of {len(groups)} groups are not equal')"
   ]
  },
  {
   "cell_type": "code",
   "execution_count": 12,
   "id": "3fd9bb8d-1c06-4751-a74c-e9b0c8890b10",
   "metadata": {},
   "outputs": [
    {
     "name": "stdout",
     "output_type": "stream",
     "text": [
      "T-static-Value:472.423, P-Value:0.000\n",
      "Probably means of 3 groups are not equal\n"
     ]
    }
   ],
   "source": [
    "anova_one_way(restaurant_data,category_column='Location',numeric_column='Revenue')"
   ]
  },
  {
   "cell_type": "markdown",
   "id": "5424b61b-7119-4db2-9829-9e8db93a9067",
   "metadata": {},
   "source": [
    "## 1.5 Multivarite Analysis of variance (MANOVA)\n",
    "Average between two or more paired samples are significantly different.\n",
    "\n",
    "#### H0: means of two or more groups on multiple independent variables are Equal.\n",
    "#### H1: means of two or more groups on multiple independent variables are not equal."
   ]
  },
  {
   "cell_type": "code",
   "execution_count": 13,
   "id": "4860c8ff-50a1-4cb3-95d8-29064a598222",
   "metadata": {},
   "outputs": [],
   "source": [
    "def manova_test(numerical_column1,numerical_column2,numerical_column3,categorical_column,data):\n",
    "    user_formula =f'{numerical_column1} + {numerical_column2} + {numerical_column3} ~ {categorical_column}'\n",
    "    manova_t = MANOVA.from_formula(formula=user_formula,data=data)\n",
    "    p_value = manova_t.mv_test().results[categorical_column]['stat']['Pr > F'][0]\n",
    "    print(\"P-value:\", p_value)\n",
    "    if p_value > 0.05:\n",
    "        print('Probably, means of two or more groups on multiple independent variables are Equal')\n",
    "    else:\n",
    "        print('Probably, means of two or more groups on multiple independent variables are Not Equal')"
   ]
  },
  {
   "cell_type": "code",
   "execution_count": 14,
   "id": "9ec524ec-c21e-40dc-b804-25617340dc10",
   "metadata": {},
   "outputs": [
    {
     "name": "stdout",
     "output_type": "stream",
     "text": [
      "P-value: 0.0\n",
      "Probably, means of two or more groups on multiple independent variables are Not Equal\n"
     ]
    }
   ],
   "source": [
    "result = manova_test(\n",
    "    numerical_column1='Average_Meal_Price',\n",
    "    numerical_column2='AvgReviewLength',\n",
    "    numerical_column3='Revenue',\n",
    "    categorical_column='Location',\n",
    "    data=restaurant_data\n",
    ")"
   ]
  },
  {
   "cell_type": "markdown",
   "id": "4ebba7f5-9206-422e-aea8-e5c2759adaca",
   "metadata": {},
   "source": [
    "# 2. Correlation Tests\n",
    "Correlation Tests are used to check the correlation between two independent features or variables."
   ]
  },
  {
   "cell_type": "markdown",
   "id": "f9bb7348-3c02-4904-82e7-cbf81caa6991",
   "metadata": {},
   "source": [
    "## 2.1 Pearson’s Correlation Coefficient\n",
    "Tests whether a data features is linearly separable.\n",
    "\n",
    "#### H0: Fetaures are correlated.\n",
    "#### H1: Features does not have any correlation."
   ]
  },
  {
   "cell_type": "code",
   "execution_count": 17,
   "id": "002aaf0a-448d-4d9e-8f60-23ca008d2b78",
   "metadata": {},
   "outputs": [],
   "source": [
    "def pearsons_correlation(data1,data2):\n",
    "    t_static_value,p_value = pearsonr(data1,data2)\n",
    "    print(f'T-static-Value:{t_static_value:.3f}, P-Value:{p_value:.3f}')\n",
    "    if p_value > 0.05:\n",
    "        print(f'Probably Features are Correlated')\n",
    "    else:\n",
    "        print(f'Probably Features may not have any correlation')"
   ]
  },
  {
   "cell_type": "code",
   "execution_count": 16,
   "id": "ba08e242-b1bb-44df-ad0d-4e7f85b20043",
   "metadata": {},
   "outputs": [
    {
     "name": "stdout",
     "output_type": "stream",
     "text": [
      "T-static-Value:0.686, P-Value:0.000\n",
      "Probably Features may not have any correlation\n"
     ]
    }
   ],
   "source": [
    "pearsons_correlation(restaurant_data['Average_Meal_Price'],restaurant_data['Revenue'])"
   ]
  },
  {
   "cell_type": "markdown",
   "id": "4c45694c-3544-420d-a828-f31054100d1f",
   "metadata": {},
   "source": [
    "## 2.2 Spearman’s Rank Correlation\n",
    "Tests whether a data sample is montonically separable.\n",
    "#### H0: the samples are correlated.\n",
    "#### H1: the sample does not have any correlation."
   ]
  },
  {
   "cell_type": "code",
   "execution_count": 18,
   "id": "230731ba-52b9-479f-9f60-775561bd36e1",
   "metadata": {},
   "outputs": [],
   "source": [
    "def spearmans_correlation(data1,data2):\n",
    "    t_static_value,p_value = spearmanr(data1,data2)\n",
    "    print(f'T-static-value : {t_static_value:.3f}, P-value :{p_value:.3f}')\n",
    "    if p_value > 0.05:\n",
    "        print(f'Probably Features are Correlated')\n",
    "    else:\n",
    "        print(f'Probably Features may not have any correlation')"
   ]
  },
  {
   "cell_type": "code",
   "execution_count": 19,
   "id": "d8824bc2-7532-4190-ac36-432e72928be2",
   "metadata": {},
   "outputs": [
    {
     "name": "stdout",
     "output_type": "stream",
     "text": [
      "T-static-value : 0.680, P-value :0.000\n",
      "Probably Features may not have any correlation\n"
     ]
    }
   ],
   "source": [
    "spearmans_correlation(restaurant_data['Average_Meal_Price'],restaurant_data['Revenue'])"
   ]
  },
  {
   "cell_type": "markdown",
   "id": "e886e683-78a9-4781-8b73-1e402cd1a839",
   "metadata": {},
   "source": [
    "## 2.3 Kendall’s Rank Correlation\n",
    "Tests whether a data sample is montonically separable.\n",
    "#### H0: the samples are correlated.\n",
    "#### H1: the sample does not have any correlation."
   ]
  },
  {
   "cell_type": "code",
   "execution_count": 32,
   "id": "3f527c4c-ef70-47df-9f17-5968e4d99054",
   "metadata": {},
   "outputs": [],
   "source": [
    "def kendalls_correlation(data1,data2):\n",
    "    t_static_value,p_value = kendalltau(data1,data2)\n",
    "    print(f'T-static-value : {t_static_value:.3f}, P-value :{p_value:0.3f}')\n",
    "    if p_value > 0.05:\n",
    "        print(f'Probably Features are Correlated')\n",
    "    else:\n",
    "        print(f'Probably Features may not have any correlation')"
   ]
  },
  {
   "cell_type": "code",
   "execution_count": 33,
   "id": "c83640a1-ce3a-4455-83e7-7437cf4d9c15",
   "metadata": {},
   "outputs": [
    {
     "name": "stdout",
     "output_type": "stream",
     "text": [
      "T-static-value : 0.487, P-value :0.000\n",
      "Probably Features may not have any correlation\n"
     ]
    }
   ],
   "source": [
    "kendalls_correlation(restaurant_data['Average Meal Price'],restaurant_data['Revenue'])"
   ]
  },
  {
   "cell_type": "markdown",
   "id": "cee38b41-64b0-47d9-8583-7ff25928d38a",
   "metadata": {},
   "source": [
    "## 2.4 Chi-Squared Test\n",
    "Tests whether two categorical variables are related to each other.\n",
    "#### H0: the samples are correlated.\n",
    "#### H1: the sample does not have any correlation.\n"
   ]
  }
 ],
 "metadata": {
  "kernelspec": {
   "display_name": "Python 3 (ipykernel)",
   "language": "python",
   "name": "python3"
  },
  "language_info": {
   "codemirror_mode": {
    "name": "ipython",
    "version": 3
   },
   "file_extension": ".py",
   "mimetype": "text/x-python",
   "name": "python",
   "nbconvert_exporter": "python",
   "pygments_lexer": "ipython3",
   "version": "3.12.4"
  },
  "widgets": {
   "application/vnd.jupyter.widget-state+json": {
    "state": {},
    "version_major": 2,
    "version_minor": 0
   }
  }
 },
 "nbformat": 4,
 "nbformat_minor": 5
}
